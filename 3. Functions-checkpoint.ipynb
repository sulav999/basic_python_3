{
 "cells": [
  {
   "cell_type": "markdown",
   "metadata": {},
   "source": [
    "# Function \n",
    "\n",
    "- You use functions in programming to bundle a set of instructions that you want to use repeatedly or that, because of their complexity, are better self-contained in a sub-program and called when needed.\n",
    "- A function is generally a piece of code written to carry out a specified task.\n",
    "- There are 3 types of functions in python\n",
    "       - Builtin functions\n",
    "       - User defined functions\n",
    "       - Anonymous functions (lambda)\n"
   ]
  },
  {
   "cell_type": "markdown",
   "metadata": {},
   "source": [
    "## Builtin functions\n",
    " - Functions such as print(), len(), max(), min(), help() are example of built in functions\n",
    " - These functions are already defined by python and comes inbuilt with all python intrepreter\n",
    " - These are more  of a generic type of functiosn that are useful to all coders round the world."
   ]
  },
  {
   "cell_type": "markdown",
   "metadata": {},
   "source": [
    "## User defined functions\n",
    " - These functions are created by users that performs custom tasks required by the user(coder)\n",
    " - function can be created  using ``def`` keyword.\n",
    " - A function can take no argument or more than 1 arguments. It depends on the user who crfeates a function\n",
    " \n",
    "### How To Define A Function: User-Defined Functions (UDFs)\n",
    "   #### The four steps to defining a function in Python are the following:\n",
    "\n",
    " - Use the keyword def to declare the function and follow this up with the function name.\n",
    " - Add parameters to the function: they should be within the parentheses of the function. End your line with a colon.\n",
    " - Add statements that the functions should execute.\n",
    " - End your function with a return statement if the function should output something. Without the return statement, your function will return an object None.\n",
    " \n",
    "   #### Of course, your functions will get more complex as you go along: you can add for loops, flow control, … and more to it to make it more finegrained:"
   ]
  },
  {
   "cell_type": "raw",
   "metadata": {},
   "source": [
    "def hello():\n",
    "  name = str(input(\"Enter your name: \"))\n",
    "  if name:\n",
    "    print (\"Hello \" + str(name))\n",
    "  else:\n",
    "    print(\"Hello World\") \n",
    "  return \n",
    "  \n",
    "hello()\n",
    "\n",
    "In the above function, you ask the user to give a name. If no name is given, the function will print out “Hello World”. Otherwise, the user will get a personalized “Hello” response."
   ]
  },
  {
   "cell_type": "code",
   "execution_count": 3,
   "metadata": {
    "collapsed": true
   },
   "outputs": [],
   "source": [
    "def hello():\n",
    "  name = str(input(\"Enter your name: \"))\n",
    "  if name:\n",
    "    print (\"Hello \" + str(name))\n",
    "  else:\n",
    "    print(\"Hello World\") \n",
    "  return \n",
    "  \n",
    "hello()"
   ]
  },
  {
   "cell_type": "markdown",
   "metadata": {},
   "source": [
    "### How To Add Docstrings To A Python Function\n",
    "\n",
    " - Another essential aspect of writing functions in Python: docstrings. \n",
    " - Docstrings describe what your function does, such as the computations it performs or its return values. \n",
    " - These descriptions serve as documentation for your function so that anyone who reads your function’s docstring understands what your function does, without having to trace through all the code in the function definition.\n"
   ]
  },
  {
   "cell_type": "raw",
   "metadata": {},
   "source": [
    "def hello():\n",
    "\"\"\"Prints \"Hello World\".\n",
    "\n",
    "Returns:\n",
    "    None\n",
    "\"\"\"\n",
    "  print(\"Hello World\") \n",
    "  return "
   ]
  },
  {
   "cell_type": "code",
   "execution_count": 5,
   "metadata": {},
   "outputs": [
    {
     "ename": "TypeError",
     "evalue": "hello() missing 1 required positional argument: 'name'",
     "output_type": "error",
     "traceback": [
      "\u001b[0;31m---------------------------------------------------------------------------\u001b[0m",
      "\u001b[0;31mTypeError\u001b[0m                                 Traceback (most recent call last)",
      "\u001b[0;32m<ipython-input-5-73e5b52ca16f>\u001b[0m in \u001b[0;36m<module>\u001b[0;34m()\u001b[0m\n\u001b[1;32m      9\u001b[0m \u001b[0;34m\u001b[0m\u001b[0m\n\u001b[1;32m     10\u001b[0m \u001b[0;34m\u001b[0m\u001b[0m\n\u001b[0;32m---> 11\u001b[0;31m \u001b[0mhello\u001b[0m\u001b[0;34m(\u001b[0m\u001b[0;34m)\u001b[0m\u001b[0;34m\u001b[0m\u001b[0m\n\u001b[0m",
      "\u001b[0;31mTypeError\u001b[0m: hello() missing 1 required positional argument: 'name'"
     ]
    }
   ],
   "source": [
    "def hello(name):\n",
    "    \"\"\"Prints \"Hello World\".\n",
    "\n",
    "    Returns:\n",
    "    None\n",
    "    \"\"\"\n",
    "    print(\"Hello World\",name) \n",
    "    return \n",
    "\n",
    "\n",
    "hello()"
   ]
  },
  {
   "cell_type": "markdown",
   "metadata": {},
   "source": [
    "### Function Arguments in Python\n",
    " - In short, arguments are the things which are given to any function or method call\n",
    " - There are four types of arguments that Python UDFs can take:\n",
    "     - Default arguments\n",
    "     - Required arguments\n",
    "     - Keyword arguments\n",
    "     - Variable number of arguments\n"
   ]
  },
  {
   "cell_type": "code",
   "execution_count": 6,
   "metadata": {},
   "outputs": [
    {
     "name": "stdout",
     "output_type": "stream",
     "text": [
      "3\n",
      "4\n",
      "11\n"
     ]
    }
   ],
   "source": [
    "# Example of default and required argument\n",
    "\n",
    "# Define `plus()` function\n",
    "def plus(a,b = 2):\n",
    "  return a + b\n",
    "\n",
    "  \n",
    "# Call `plus()` with only `a` parameter\n",
    "print(plus(a=1))\n",
    "\n",
    "# Call `plus()` with `a` and `b` parameters\n",
    "print(plus(a=1, b=3))\n",
    "\n",
    "\n",
    "\n",
    "# Define `plus()` with required arguments\n",
    "def plus(a,b):\n",
    "  return a + b\n",
    "\n",
    "print(plus(4,7))"
   ]
  },
  {
   "cell_type": "code",
   "execution_count": 3,
   "metadata": {},
   "outputs": [
    {
     "ename": "TypeError",
     "evalue": "plus() got an unexpected keyword argument 'c'",
     "output_type": "error",
     "traceback": [
      "\u001b[0;31m---------------------------------------------------------------------------\u001b[0m",
      "\u001b[0;31mTypeError\u001b[0m                                 Traceback (most recent call last)",
      "\u001b[0;32m<ipython-input-3-1f3322270416>\u001b[0m in \u001b[0;36m<module>\u001b[0;34m()\u001b[0m\n\u001b[1;32m     10\u001b[0m \u001b[0;34m\u001b[0m\u001b[0m\n\u001b[1;32m     11\u001b[0m \u001b[0;31m# Call `plus()` function with keyword arguments\u001b[0m\u001b[0;34m\u001b[0m\u001b[0;34m\u001b[0m\u001b[0m\n\u001b[0;32m---> 12\u001b[0;31m \u001b[0mplus\u001b[0m\u001b[0;34m(\u001b[0m\u001b[0mb\u001b[0m\u001b[0;34m=\u001b[0m\u001b[0;36m2\u001b[0m\u001b[0;34m,\u001b[0m \u001b[0ma\u001b[0m\u001b[0;34m=\u001b[0m\u001b[0;36m1\u001b[0m\u001b[0;34m,\u001b[0m \u001b[0mc\u001b[0m \u001b[0;34m=\u001b[0m\u001b[0;36m4\u001b[0m\u001b[0;34m)\u001b[0m\u001b[0;34m\u001b[0m\u001b[0m\n\u001b[0m",
      "\u001b[0;31mTypeError\u001b[0m: plus() got an unexpected keyword argument 'c'"
     ]
    }
   ],
   "source": [
    "# example of key word argument\n",
    "\n",
    "# In keyword arguments, you can also switch around the order of the parameters and \n",
    "# still get the same result when you execute your function\n",
    "\n",
    "\n",
    "# Define `plus()` function\n",
    "def plus(a,b):\n",
    "  return a + b\n",
    "  \n",
    "# Call `plus()` function with keyword arguments\n",
    "plus(b=2, a=1, c =4)"
   ]
  },
  {
   "cell_type": "code",
   "execution_count": 9,
   "metadata": {},
   "outputs": [
    {
     "name": "stdout",
     "output_type": "stream",
     "text": [
      "(4, 5, 7)\n",
      "1\n",
      "16\n"
     ]
    }
   ],
   "source": [
    "# In cases where you don’t know the exact number of arguments that you want to pass to a function, \n",
    "# you can use the *args:\n",
    "\n",
    "# Define `plus()` function to accept a variable number of arguments\n",
    "def plus(a,*args):\n",
    "    print(args)\n",
    "    print(a)\n",
    "    return sum(args)\n",
    "\n",
    "# Calculate the sum\n",
    "print(plus(1,4,5, 7))"
   ]
  },
  {
   "cell_type": "code",
   "execution_count": 17,
   "metadata": {},
   "outputs": [
    {
     "name": "stdout",
     "output_type": "stream",
     "text": [
      "('thefourtheye', 2013)\n",
      "{}\n",
      "2013\n"
     ]
    }
   ],
   "source": [
    "# another feature is to use **kwargs and *args\n",
    "# **kwargs means keyword arguments. Its actually not a python keyword, its just a convention, that people follow\n",
    "def func(*args,**kwargs):\n",
    "    print (args) \n",
    "    print (kwargs)\n",
    "    print(args[1])\n",
    "#     print(kwargs[\"name\"])\n",
    "    \n",
    "    \n",
    "# func(2, 1, \"Welcome\",name=\"thefourtheye\", year=2013 )\n",
    "func(\"thefourtheye\", 2013)"
   ]
  },
  {
   "cell_type": "markdown",
   "metadata": {},
   "source": [
    "## Anonymous functions (Lambda)\n",
    "  - Anonymous functions are also called lambda functions in Python because instead of declaring them with the standard def keyword, you use the lambda keyword.\n",
    "  - You use anonymous functions when you require a nameless function for a short period of time and that is created at runtime. Specific contexts in which this would be relevant is when you’re working with filter(), map() and reduce():\n",
    "  "
   ]
  },
  {
   "cell_type": "code",
   "execution_count": 25,
   "metadata": {},
   "outputs": [
    {
     "data": {
      "text/plain": [
       "10"
      ]
     },
     "execution_count": 25,
     "metadata": {},
     "output_type": "execute_result"
    }
   ],
   "source": [
    "double = lambda x: x*2\n",
    "\n",
    "double(5)\n"
   ]
  },
  {
   "cell_type": "code",
   "execution_count": 5,
   "metadata": {},
   "outputs": [
    {
     "name": "stdout",
     "output_type": "stream",
     "text": [
      "9\n",
      "9\n"
     ]
    }
   ],
   "source": [
    "# `sum()` lambda function\n",
    "sum = lambda x, y: x + y;\n",
    "\n",
    "# Call the `sum()` anonymous function\n",
    "print(sum(4,5))\n",
    "\n",
    "# \"Translate\" to a UDF\n",
    "def sum(x, y):\n",
    "  return x+y\n",
    "\n",
    "print(sum(4,5))"
   ]
  },
  {
   "cell_type": "markdown",
   "metadata": {},
   "source": [
    "### MAP, FILTER, REDUCE\n",
    " -  map : applies a function to all the items in an input_list\n",
    "         - map(function_to_apply, list_of_inputs)\n",
    " - filter : "
   ]
  },
  {
   "cell_type": "code",
   "execution_count": 11,
   "metadata": {},
   "outputs": [
    {
     "name": "stdout",
     "output_type": "stream",
     "text": [
      "filtered_list :  [False, False, False, False, False, True, True, True, True, True]\n",
      "mapped_list :  [2, 4, 6, 8, 10, 12, 14, 16, 18, 20]\n",
      "mapped_list2 :  [10, 14, 17, 20]\n",
      "reduced_list :  55\n"
     ]
    }
   ],
   "source": [
    "from functools import reduce\n",
    "\n",
    "my_list = [1, 2, 3, 4 ,5 ,6 ,7 ,8 ,9 ,10]\n",
    "my_list2 = [4, 6, 7, 8, 9, 0]\n",
    "d = {}\n",
    "# Use lambda function with `filter()`\n",
    "filtered_list = list(map(lambda x: (x*2 > 10), my_list))\n",
    "\n",
    "# Use lambda function with `map()`\n",
    "mapped_list = list(map(lambda x: x*2, my_list))\n",
    "\n",
    "# suppose add multiple list we can do as below\n",
    "mapped_list2 = list(map(lambda x,y,z: x+y+z, my_list, my_list2,[5,6,7,8]))\n",
    "\n",
    "\n",
    "# Use lambda function with `reduce()`\n",
    "reduced_list = reduce(lambda x, y: x+y, my_list)\n",
    "\n",
    "print(\"filtered_list : \",filtered_list)\n",
    "print(\"mapped_list : \",mapped_list)\n",
    "print(\"mapped_list2 : \",mapped_list2)\n",
    "print(\"reduced_list : \",reduced_list)"
   ]
  },
  {
   "cell_type": "code",
   "execution_count": null,
   "metadata": {
    "collapsed": true
   },
   "outputs": [],
   "source": []
  }
 ],
 "metadata": {
  "kernelspec": {
   "display_name": "Python 3",
   "language": "python",
   "name": "python3"
  },
  "language_info": {
   "codemirror_mode": {
    "name": "ipython",
    "version": 3
   },
   "file_extension": ".py",
   "mimetype": "text/x-python",
   "name": "python",
   "nbconvert_exporter": "python",
   "pygments_lexer": "ipython3",
   "version": "3.7.3"
  }
 },
 "nbformat": 4,
 "nbformat_minor": 2
}
