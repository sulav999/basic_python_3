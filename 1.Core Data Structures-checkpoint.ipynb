{
 "cells": [
  {
   "cell_type": "markdown",
   "metadata": {},
   "source": [
    "\n",
    "## Quick note about Jupyter cells\n",
    "\n",
    "When you are editing a cell in Jupyter notebook, you need to re-run the cell by pressing **`<Shift> + <Enter>`**. This will allow changes you made to be available to other cells.\n",
    "\n",
    "Use **`<Enter>`** to make new lines inside a cell you are editing.\n",
    "\n",
    "#### Code cells\n",
    "\n",
    "Re-running will execute any statements you have written. To edit an existing code cell, click on it.\n",
    "\n",
    "#### Markdown cells\n",
    "\n",
    "Re-running will render the markdown text. To edit an existing markdown cell, double-click on it.\n",
    "\n",
    "<hr>"
   ]
  },
  {
   "cell_type": "markdown",
   "metadata": {},
   "source": [
    "## Common Jupyter operations\n",
    "\n",
    "Near the top of the https://try.jupyter.org page, Jupyter provides a row of menu options (`File`, `Edit`, `View`, `Insert`, ...) and a row of tool bar icons (disk, plus sign, scissors, 2 files, clipboard and file, up arrow, ...).\n",
    "\n",
    "#### Inserting and removing cells\n",
    "\n",
    "- Use the \"plus sign\" icon to insert a cell below the currently selected cell\n",
    "- Use \"Insert\" -> \"Insert Cell Above\" from the menu to insert above\n",
    "\n",
    "#### Clear the output of all cells\n",
    "\n",
    "- Use \"Kernel\" -> \"Restart\" from the menu to restart the kernel\n",
    "    - click on \"clear all outputs & restart\" to have all the output cleared\n",
    "\n",
    "#### Save your notebook file locally\n",
    "\n",
    "- Clear the output of all cells\n",
    "- Use \"File\" -> \"Download as\" -> \"IPython Notebook (.ipynb)\" to download a notebook file representing your https://try.jupyter.org session\n",
    "\n",
    "#### Load your notebook file in try.jupyter.org\n",
    "\n",
    "1. Visit https://try.jupyter.org\n",
    "2. Click the \"Upload\" button near the upper right corner\n",
    "3. Navigate your filesystem to find your `*.ipynb` file and click \"open\"\n",
    "4. Click the new \"upload\" button that appears next to your file name\n",
    "5. Click on your uploaded notebook file\n",
    "\n",
    "<hr>"
   ]
  },
  {
   "cell_type": "markdown",
   "metadata": {},
   "source": [
    "## Python objects, basic types, and variables\n",
    "\n",
    "Everything in Python is an **object** and every object in Python has a **type**. Some of the basic types include:\n",
    "\n",
    "- **`int`** (integer; a whole number with no decimal place)\n",
    "  - `10`\n",
    "  - `-3`\n",
    "- **`float`** (float; a number that has a decimal place)\n",
    "  - `7.41`\n",
    "  - `-0.006`\n",
    "- **`str`** (string; a sequence of characters enclosed in single quotes, double quotes, or triple quotes)\n",
    "  - `'this is a string using single quotes'`\n",
    "  - `\"this is a string using double quotes\"`\n",
    "  - `'''this is a triple quoted string using single quotes'''`\n",
    "  - `\"\"\"this is a triple quoted string using double quotes\"\"\"`\n",
    "- **`bool`** (boolean; a binary value that is either true or false)\n",
    "  - `True`\n",
    "  - `False`\n",
    "- **`NoneType`** (a special type representing the absence of a value)\n",
    "  - `None`\n",
    "\n",
    "In Python, a **variable** is a name you specify in your code that maps to a particular **object**, object **instance**, or value.\n",
    "\n",
    "\n",
    "By defining variables, we can refer to things by names that make sense to us. Names for variables can only contain letters, underscores (`_`), or numbers (no spaces, dashes, or other characters). Variable names must start with a letter or underscore.\n",
    "\n",
    "<hr>"
   ]
  },
  {
   "cell_type": "markdown",
   "metadata": {},
   "source": [
    "## Basic operators\n",
    "\n",
    "In Python, there are different types of **operators** (special symbols) that operate on different values. Some of the basic operators include:\n",
    "\n",
    "- arithmetic operators\n",
    "  - **`+`** (addition)\n",
    "  - **`-`** (subtraction)\n",
    "  - **`*`** (multiplication)\n",
    "  - **`/`** (division)\n",
    "  - __`**`__ (exponent)\n",
    "- assignment operators\n",
    "  - **`=`** (assign a value)\n",
    "  - **`+=`** (add and re-assign; increment)\n",
    "  - **`-=`** (subtract and re-assign; decrement)\n",
    "  - **`*=`** (multiply and re-assign)\n",
    "- comparison operators (return either `True` or `False`)\n",
    "  - **`==`** (equal to)\n",
    "  - **`!=`** (not equal to)\n",
    "  - **`<`** (less than)\n",
    "  - **`<=`** (less than or equal to)\n",
    "  - **`>`** (greater than)\n",
    "  - **`>=`** (greater than or equal to)\n",
    "\n",
    "When multiple operators are used in a single expression, **operator precedence** determines which parts of the expression are evaluated in which order. Operators with higher precedence are evaluated first (like PEMDAS in math). Operators with the same precedence are evaluated from left to right.\n",
    "\n",
    "- `()` parentheses, for grouping\n",
    "- `**` exponent\n",
    "- `*`, `/` multiplication and division\n",
    "- `+`, `-` addition and subtraction\n",
    "- `==`, `!=`, `<`, `<=`, `>`, `>=` comparisons\n",
    "\n",
    "> See https://docs.python.org/3/reference/expressions.html#operator-precedence"
   ]
  },
  {
   "cell_type": "code",
   "execution_count": null,
   "metadata": {
    "collapsed": true
   },
   "outputs": [],
   "source": [
    "# A simple Hello world \n",
    "print(\"Hello World!\")\n",
    "print(\"Hello\")"
   ]
  },
  {
   "cell_type": "code",
   "execution_count": null,
   "metadata": {
    "collapsed": true
   },
   "outputs": [],
   "source": [
    "# Assigning some numbers to different variables\n",
    "num1 = 18\n",
    "num2 = -3\n",
    "num3 = 7.42\n",
    "num4 = -.66\n",
    "num5 = 7\n",
    "num6 = 3\n",
    "num7 = 11.15\n",
    "num8 = 0\n",
    "num9 = -5\n",
    "num10 = 3\n",
    "num11 = 0\n"
   ]
  },
  {
   "cell_type": "code",
   "execution_count": null,
   "metadata": {
    "collapsed": true
   },
   "outputs": [],
   "source": [
    "# Addition\n",
    "print (num1 + num2)\n",
    "print (num9 + num8)\n",
    "\n"
   ]
  },
  {
   "cell_type": "code",
   "execution_count": null,
   "metadata": {
    "collapsed": true
   },
   "outputs": [],
   "source": [
    "# Subtraction\n",
    "num2 - num3"
   ]
  },
  {
   "cell_type": "code",
   "execution_count": null,
   "metadata": {
    "collapsed": true
   },
   "outputs": [],
   "source": [
    "# Division\n",
    "num4 / num5"
   ]
  },
  {
   "cell_type": "code",
   "execution_count": null,
   "metadata": {
    "collapsed": true
   },
   "outputs": [],
   "source": [
    "# Exponent\n",
    "num9 ** num8"
   ]
  },
  {
   "cell_type": "code",
   "execution_count": null,
   "metadata": {
    "collapsed": true
   },
   "outputs": [],
   "source": [
    "# Increment existing variable\n",
    "num7 += 4\n",
    "num7\n",
    "num9 += 5\n",
    "num9\n"
   ]
  },
  {
   "cell_type": "code",
   "execution_count": null,
   "metadata": {
    "collapsed": true
   },
   "outputs": [],
   "source": [
    "# Decrement existing variable\n",
    "num6 -= 2\n",
    "num6\n",
    "num9 -= -5\n",
    "num9"
   ]
  },
  {
   "cell_type": "code",
   "execution_count": null,
   "metadata": {
    "collapsed": true
   },
   "outputs": [],
   "source": [
    "# Assign the value of an expression to a variable\n",
    "num8 = num7 + num8 * num9\n",
    "num8"
   ]
  },
  {
   "cell_type": "code",
   "execution_count": null,
   "metadata": {
    "collapsed": true
   },
   "outputs": [],
   "source": [
    "# Are thes two expressions equal to each other?\n",
    "num2 + num6 == num8\n"
   ]
  },
  {
   "cell_type": "code",
   "execution_count": null,
   "metadata": {
    "collapsed": true
   },
   "outputs": [],
   "source": [
    "# Are these two expressions not equal to each other?\n",
    "num8 != num11\n"
   ]
  },
  {
   "cell_type": "code",
   "execution_count": null,
   "metadata": {
    "collapsed": true
   },
   "outputs": [],
   "source": [
    "# Is the first expression less than the second expression?\n",
    "num8 <= num11"
   ]
  },
  {
   "cell_type": "code",
   "execution_count": null,
   "metadata": {
    "collapsed": true
   },
   "outputs": [],
   "source": [
    "# Is this expression True?\n",
    "5 > 3 > 4 > 5 < 1"
   ]
  },
  {
   "cell_type": "code",
   "execution_count": null,
   "metadata": {
    "collapsed": true
   },
   "outputs": [],
   "source": [
    "# Is this expression True?\n",
    "5 > 3 < 2 == 3 > 1"
   ]
  },
  {
   "cell_type": "code",
   "execution_count": null,
   "metadata": {
    "collapsed": true
   },
   "outputs": [],
   "source": [
    "# Assign some strings to different variables\n",
    "simple_string1 = 'an example'\n",
    "simple_string2 = \"oranges \""
   ]
  },
  {
   "cell_type": "code",
   "execution_count": null,
   "metadata": {
    "collapsed": true
   },
   "outputs": [],
   "source": [
    "# Addition\n",
    "simple_string1 + ' of using the + operator'"
   ]
  },
  {
   "cell_type": "code",
   "execution_count": null,
   "metadata": {
    "collapsed": true
   },
   "outputs": [],
   "source": [
    "# String Multiplication\n",
    "simple_string2 * 4"
   ]
  },
  {
   "cell_type": "code",
   "execution_count": null,
   "metadata": {
    "collapsed": true
   },
   "outputs": [],
   "source": [
    "# This string wasn't modified either\n",
    "simple_string2"
   ]
  },
  {
   "cell_type": "code",
   "execution_count": null,
   "metadata": {
    "collapsed": true
   },
   "outputs": [],
   "source": [
    "# Are these two expressions equal to each other?\n",
    "simple_string1 == simple_string2"
   ]
  },
  {
   "cell_type": "code",
   "execution_count": null,
   "metadata": {
    "collapsed": true
   },
   "outputs": [],
   "source": [
    "# Are these two expressions equal to each other?\n",
    "simple_string1 ==  'an example'"
   ]
  },
  {
   "cell_type": "code",
   "execution_count": null,
   "metadata": {
    "collapsed": true
   },
   "outputs": [],
   "source": [
    "# Add and re-assign\n",
    "simple_string1 += ' that re-assigned the original string'\n",
    "simple_string1"
   ]
  },
  {
   "cell_type": "code",
   "execution_count": null,
   "metadata": {
    "collapsed": true
   },
   "outputs": [],
   "source": [
    "# Note: Subtraction, division, and decrement operators do not apply to strings.\n",
    "\"this scring\""
   ]
  },
  {
   "cell_type": "markdown",
   "metadata": {},
   "source": [
    "## Basic containers\n",
    "\n",
    "> Note: **mutable** objects can be modified after creation and **immutable** objects cannot.\n",
    "\n",
    "Containers are objects that can be used to group other objects together. The basic container types include:\n",
    "\n",
    "- **`str`** (string: immutable; indexed by integers; items are stored in the order they were added)\n",
    "- **`list`** (list: mutable; indexed by integers; items are stored in the order they were added)\n",
    "  - `[3, 5, 6, 3, 'dog', 'cat', False]`\n",
    "- **`tuple`** (tuple: immutable; indexed by integers; items are stored in the order they were added)\n",
    "  - `(3, 5, 6, 3, 'dog', 'cat', False)`\n",
    "- **`set`** (set: mutable; not indexed at all; items are NOT stored in the order they were added; can only contain immutable objects; does NOT contain duplicate objects)\n",
    "  - `{3, 5, 6, 3, 'dog', 'cat', False}`\n",
    "- **`dict`** (dictionary: mutable; key-value pairs are indexed by immutable keys; items are NOT stored in the order they were added)\n",
    "  - `{'name': 'Jane', 'age': 23, 'fav_foods': ['pizza', 'fruit', 'fish']}`\n",
    "\n",
    "When defining lists, tuples, or sets, use commas (,) to separate the individual items. When defining dicts, use a colon (:) to separate keys from values and commas (,) to separate the key-value pairs.\n",
    "\n",
    "Strings, lists, and tuples are all **sequence types** that can use the `+`, `*`, `+=`, and `*=` operators."
   ]
  },
  {
   "cell_type": "code",
   "execution_count": 23,
   "metadata": {
    "collapsed": true
   },
   "outputs": [],
   "source": [
    "# Assign some containers to different variables\n",
    "list1 = [3, 5, 6, 3, 'dog', 'cat', False]\n",
    "tuple1 = (3, 5, 6, 3, 'dog', 'cat', False)\n",
    "set1 = {3, 5, 6, 3, 'dog', 'cat', False}\n",
    "dict1 = {'name': 'Jane', 'age': 23, 'fav_foods': ['pizza', 'fruit', 'fish']}"
   ]
  },
  {
   "cell_type": "code",
   "execution_count": null,
   "metadata": {
    "collapsed": true
   },
   "outputs": [],
   "source": [
    "# Items in the list object are stored in the order they were added\n",
    "list1"
   ]
  },
  {
   "cell_type": "code",
   "execution_count": null,
   "metadata": {
    "collapsed": true
   },
   "outputs": [],
   "source": [
    "# Items in the tuple object are stored in the order they were added\n",
    "tuple1"
   ]
  },
  {
   "cell_type": "code",
   "execution_count": null,
   "metadata": {
    "collapsed": true
   },
   "outputs": [],
   "source": [
    "# Items in the set object are not stored in the order they were added\n",
    "# Also, notice that the value 3 only appears once in this set object\n",
    "set1"
   ]
  },
  {
   "cell_type": "code",
   "execution_count": null,
   "metadata": {
    "collapsed": true
   },
   "outputs": [],
   "source": [
    "# Items in the dict object are not stored in the order they were added\n",
    "dict1"
   ]
  },
  {
   "cell_type": "code",
   "execution_count": null,
   "metadata": {
    "collapsed": true
   },
   "outputs": [],
   "source": [
    "# Add and re-assign\n",
    "list1 += [5, 'grapes']\n",
    "list1"
   ]
  },
  {
   "cell_type": "code",
   "execution_count": null,
   "metadata": {
    "collapsed": true
   },
   "outputs": [],
   "source": [
    "# Add and re-assign\n",
    "tuple1 += (5, 'grapes')\n",
    "tuple1"
   ]
  },
  {
   "cell_type": "code",
   "execution_count": null,
   "metadata": {
    "collapsed": true
   },
   "outputs": [],
   "source": [
    "# Multiply\n",
    "[1, 2, 3, 4] * 2"
   ]
  },
  {
   "cell_type": "code",
   "execution_count": null,
   "metadata": {
    "collapsed": true
   },
   "outputs": [],
   "source": [
    "# Multiply\n",
    "(1, 2, 3, 4) * 3"
   ]
  },
  {
   "cell_type": "code",
   "execution_count": null,
   "metadata": {
    "collapsed": true
   },
   "outputs": [],
   "source": [
    "# Mutable and immutable\n",
    "mutale_obj = [\"1\",3,\"Y\",4.6]\n",
    "print(mutale_obj)\n",
    "mutale_obj[3] = 5\n",
    "print(mutale_obj)\n",
    "\n",
    "immutable_obj = (1,[\"a\",\"b\",\"c\"],\"word\")\n",
    "# immutable_obj[1] = [\"aa\",\"bb\",\"cc\"]\n",
    "\n",
    "# Immutability is not transitive\n",
    "immutable_obj[1][1] = \"B\"\n",
    "print(immutable_obj)"
   ]
  },
  {
   "cell_type": "code",
   "execution_count": 2,
   "metadata": {},
   "outputs": [
    {
     "name": "stdout",
     "output_type": "stream",
     "text": [
      "r\n"
     ]
    },
    {
     "ename": "TypeError",
     "evalue": "'str' object does not support item assignment",
     "output_type": "error",
     "traceback": [
      "\u001b[0;31m---------------------------------------------------------------------------\u001b[0m",
      "\u001b[0;31mTypeError\u001b[0m                                 Traceback (most recent call last)",
      "\u001b[0;32m<ipython-input-2-02e2095aef84>\u001b[0m in \u001b[0;36m<module>\u001b[0;34m()\u001b[0m\n\u001b[1;32m      3\u001b[0m \u001b[0mprint\u001b[0m\u001b[0;34m(\u001b[0m\u001b[0ma\u001b[0m\u001b[0;34m[\u001b[0m\u001b[0;36m2\u001b[0m\u001b[0;34m]\u001b[0m\u001b[0;34m)\u001b[0m\u001b[0;34m\u001b[0m\u001b[0m\n\u001b[1;32m      4\u001b[0m \u001b[0;31m# below line will fail\u001b[0m\u001b[0;34m\u001b[0m\u001b[0;34m\u001b[0m\u001b[0m\n\u001b[0;32m----> 5\u001b[0;31m \u001b[0ma\u001b[0m\u001b[0;34m[\u001b[0m\u001b[0;36m2\u001b[0m\u001b[0;34m]\u001b[0m \u001b[0;34m=\u001b[0m \u001b[0;34m\"t\"\u001b[0m\u001b[0;34m\u001b[0m\u001b[0m\n\u001b[0m",
      "\u001b[0;31mTypeError\u001b[0m: 'str' object does not support item assignment"
     ]
    }
   ],
   "source": [
    "# What immutable means using string\n",
    "a = \"String\"\n",
    "print(a[2])\n",
    "# below line will fail\n",
    "a[2] = \"t\"\n"
   ]
  },
  {
   "cell_type": "code",
   "execution_count": 4,
   "metadata": {},
   "outputs": [
    {
     "name": "stdout",
     "output_type": "stream",
     "text": [
      "this\n"
     ]
    },
    {
     "ename": "TypeError",
     "evalue": "'tuple' object does not support item assignment",
     "output_type": "error",
     "traceback": [
      "\u001b[0;31m---------------------------------------------------------------------------\u001b[0m",
      "\u001b[0;31mTypeError\u001b[0m                                 Traceback (most recent call last)",
      "\u001b[0;32m<ipython-input-4-e3a5faa2748f>\u001b[0m in \u001b[0;36m<module>\u001b[0;34m()\u001b[0m\n\u001b[1;32m      3\u001b[0m \u001b[0mprint\u001b[0m\u001b[0;34m(\u001b[0m\u001b[0mb\u001b[0m\u001b[0;34m[\u001b[0m\u001b[0;36m1\u001b[0m\u001b[0;34m]\u001b[0m\u001b[0;34m)\u001b[0m\u001b[0;34m\u001b[0m\u001b[0m\n\u001b[1;32m      4\u001b[0m \u001b[0;31m# below line will fail\u001b[0m\u001b[0;34m\u001b[0m\u001b[0;34m\u001b[0m\u001b[0m\n\u001b[0;32m----> 5\u001b[0;31m \u001b[0mb\u001b[0m\u001b[0;34m[\u001b[0m\u001b[0;36m1\u001b[0m\u001b[0;34m]\u001b[0m \u001b[0;34m=\u001b[0m \u001b[0;34m\"THIS\"\u001b[0m\u001b[0;34m\u001b[0m\u001b[0m\n\u001b[0m",
      "\u001b[0;31mTypeError\u001b[0m: 'tuple' object does not support item assignment"
     ]
    }
   ],
   "source": [
    "# What immutable means using tuple\n",
    "b = (\"1\",\"this\",\"is\" ,\"a\",\"tuple\")\n",
    "print(b[1])\n",
    "# below line will fail\n",
    "b[1] = \"THIS\""
   ]
  },
  {
   "cell_type": "code",
   "execution_count": 5,
   "metadata": {},
   "outputs": [
    {
     "name": "stdout",
     "output_type": "stream",
     "text": [
      "this\n",
      "['1', 'THIS', 'is', 'a', 'tuple']\n"
     ]
    }
   ],
   "source": [
    "# What mutable means using list\n",
    "b = [\"1\",\"this\",\"is\" ,\"a\",\"tuple\"]\n",
    "print(b[1])\n",
    "# below line will pass\n",
    "b[1] = \"THIS\"\n",
    "print(b)"
   ]
  },
  {
   "cell_type": "code",
   "execution_count": 13,
   "metadata": {},
   "outputs": [
    {
     "name": "stdout",
     "output_type": "stream",
     "text": [
      "619 yo this is a string chai bich ma bhako hai extra var\n"
     ]
    },
    {
     "ename": "TypeError",
     "evalue": "unsupported operand type(s) for +: 'int' and 'str'",
     "output_type": "error",
     "traceback": [
      "\u001b[0;31m---------------------------------------------------------------------------\u001b[0m",
      "\u001b[0;31mTypeError\u001b[0m                                 Traceback (most recent call last)",
      "\u001b[0;32m<ipython-input-13-10945e5579d2>\u001b[0m in \u001b[0;36m<module>\u001b[0;34m()\u001b[0m\n\u001b[1;32m      4\u001b[0m \u001b[0;34m\u001b[0m\u001b[0m\n\u001b[1;32m      5\u001b[0m \u001b[0mprint\u001b[0m\u001b[0;34m(\u001b[0m\u001b[0;34m\"{} yo {} chai bich ma bhako hai {}\"\u001b[0m\u001b[0;34m.\u001b[0m\u001b[0mformat\u001b[0m\u001b[0;34m(\u001b[0m\u001b[0mint_var\u001b[0m\u001b[0;34m,\u001b[0m\u001b[0mstr_var\u001b[0m\u001b[0;34m,\u001b[0m\u001b[0;34m\"extra var\"\u001b[0m\u001b[0;34m)\u001b[0m\u001b[0;34m)\u001b[0m\u001b[0;34m\u001b[0m\u001b[0m\n\u001b[0;32m----> 6\u001b[0;31m \u001b[0mprint\u001b[0m\u001b[0;34m(\u001b[0m\u001b[0;34m(\u001b[0m\u001b[0mint_var\u001b[0m\u001b[0;34m)\u001b[0m \u001b[0;34m+\u001b[0m \u001b[0mstr_var\u001b[0m\u001b[0;34m)\u001b[0m\u001b[0;34m\u001b[0m\u001b[0m\n\u001b[0m\u001b[1;32m      7\u001b[0m \u001b[0;31m# try adding the above 2 variables(it will fail)\u001b[0m\u001b[0;34m\u001b[0m\u001b[0;34m\u001b[0m\u001b[0m\n",
      "\u001b[0;31mTypeError\u001b[0m: unsupported operand type(s) for +: 'int' and 'str'"
     ]
    }
   ],
   "source": [
    "# try adding a string and a integer/decimal\n",
    "int_var = 619\n",
    "str_var = \"this is a string\"\n",
    "\n",
    "print(\"{} yo {} chai bich ma bhako hai {}\".format(int_var,str_var,\"extra var\"))\n",
    "# try adding the above 2 variables(it will fail)"
   ]
  },
  {
   "cell_type": "markdown",
   "metadata": {},
   "source": [
    "## Accessing data in containers\n",
    "\n",
    "For strings, lists, tuples, and dicts, we can use **subscript notation** (square brackets) to access data at an index.\n",
    "\n",
    "- strings, lists, and tuples are indexed by integers, **starting at 0** for first item\n",
    "  - these sequence types also support accesing a range of items, known as **slicing**\n",
    "  - use **negative indexing** to start at the back of the sequence\n",
    "- dicts are indexed by their keys\n",
    "\n",
    "> Note: sets are not indexed, so we cannot use subscript notation to access data elements."
   ]
  },
  {
   "cell_type": "code",
   "execution_count": null,
   "metadata": {
    "collapsed": true
   },
   "outputs": [],
   "source": [
    "# Assign some containers to different variables\n",
    "list1 = [3, 5, 6, 3, 'dog', 'cat', False]\n",
    "\n",
    "tuple1 = (3, 5, 6, 3, 'dog', 'cat', False)\n",
    "set1 = {3, 5, 6, 3, 'dog', 'cat', False}\n",
    "dict1 = {'name': 'Jane', 'age': 23, 'fav_foods': ['pizza', [\"salsa\",\"paratha\"],'fruit', 'fish']}\n",
    "print(list1.__sizeof__())\n",
    "print(tuple1.__sizeof__())\n",
    "print(dir(list1))\n",
    "print(dir(tuple1))"
   ]
  },
  {
   "cell_type": "code",
   "execution_count": null,
   "metadata": {
    "collapsed": true
   },
   "outputs": [],
   "source": [
    "# Access the first item in a sequence\n",
    "list1[0]"
   ]
  },
  {
   "cell_type": "code",
   "execution_count": null,
   "metadata": {
    "collapsed": true
   },
   "outputs": [],
   "source": [
    "# Access the last item in a sequence\n",
    "tuple1[-1]"
   ]
  },
  {
   "cell_type": "code",
   "execution_count": 17,
   "metadata": {
    "collapsed": true
   },
   "outputs": [],
   "source": [
    "# Assign some strings to different variables\n",
    "simple_string1 = 'an example'\n",
    "simple_string2 = \"oranges \""
   ]
  },
  {
   "cell_type": "code",
   "execution_count": null,
   "metadata": {
    "collapsed": true
   },
   "outputs": [],
   "source": [
    "# Access a range of items in a sequence\n",
    "simple_string1[3:8]"
   ]
  },
  {
   "cell_type": "code",
   "execution_count": null,
   "metadata": {
    "collapsed": true
   },
   "outputs": [],
   "source": [
    "# Access a range of items in a sequence\n",
    "tuple1[:-3]"
   ]
  },
  {
   "cell_type": "code",
   "execution_count": null,
   "metadata": {
    "collapsed": true
   },
   "outputs": [],
   "source": [
    "# Access a range of items in a sequence\n",
    "list1[4:]"
   ]
  },
  {
   "cell_type": "code",
   "execution_count": null,
   "metadata": {
    "collapsed": true
   },
   "outputs": [],
   "source": [
    "# Access an item in a dictionary\n",
    "dict1['name']"
   ]
  },
  {
   "cell_type": "code",
   "execution_count": null,
   "metadata": {
    "collapsed": true
   },
   "outputs": [],
   "source": [
    "# Access an element of a sequence in a dictionary\n",
    "dict1['fav_foods'][1][1]"
   ]
  },
  {
   "cell_type": "markdown",
   "metadata": {},
   "source": [
    "## Python built-in functions and callables\n",
    "\n",
    "A **function** is a Python object that you can \"call\" to **perform an action** or compute and **return another object**. You call a function by placing parentheses to the right of the function name. Some functions allow you to pass **arguments** inside the parentheses (separating multiple arguments with a comma). Internal to the function, these arguments are treated like variables.\n",
    "\n",
    "Python has several useful built-in functions to help you work with different objects and/or your environment. Here is a small sample of them:\n",
    "\n",
    "- **`type(obj)`** to determine the type of an object\n",
    "- **`len(container)`** to determine how many items are in a container\n",
    "- **`callable(obj)`** to determine if an object is callable\n",
    "- **`sorted(container)`** to return a new list from a container, with the items sorted\n",
    "- **`sum(container)`** to compute the sum of a container of numbers\n",
    "- **`min(container)`** to determine the smallest item in a container\n",
    "- **`max(container)`** to determine the largest item in a container\n",
    "- **`abs(number)`** to determine the absolute value of a number\n",
    "- **`repr(obj)`** to return a string representation of an object\n",
    "\n",
    "> Complete list of built-in functions: https://docs.python.org/3/library/functions.html\n",
    "\n",
    "There are also different ways of defining your own functions and callable objects that we will explore later."
   ]
  },
  {
   "cell_type": "code",
   "execution_count": 22,
   "metadata": {},
   "outputs": [
    {
     "data": {
      "text/plain": [
       "dict"
      ]
     },
     "execution_count": 22,
     "metadata": {},
     "output_type": "execute_result"
    }
   ],
   "source": [
    "# Use the type() function to determine the type of an object\n",
    "tple = {\"1\":\"asd\", \"2\":\"asdaf\", \"5\":\"asfasd\",\"list\":[\"data\",\"data1\"]}\n",
    "type(tple)"
   ]
  },
  {
   "cell_type": "code",
   "execution_count": 28,
   "metadata": {},
   "outputs": [
    {
     "data": {
      "text/plain": [
       "7"
      ]
     },
     "execution_count": 28,
     "metadata": {},
     "output_type": "execute_result"
    }
   ],
   "source": [
    "# Use the len() function to determine how many items are in a container\n",
    "strr= \"lkjrjkf\"\n",
    "len(strr)"
   ]
  },
  {
   "cell_type": "code",
   "execution_count": null,
   "metadata": {
    "collapsed": true
   },
   "outputs": [],
   "source": [
    "# Use the len() function to determine how many items are in a container\n",
    "len(simple_string2)"
   ]
  },
  {
   "cell_type": "code",
   "execution_count": 16,
   "metadata": {},
   "outputs": [
    {
     "data": {
      "text/plain": [
       "True"
      ]
     },
     "execution_count": 16,
     "metadata": {},
     "output_type": "execute_result"
    }
   ],
   "source": [
    "# Use the callable() function to determine if an object is callable\n",
    "var = \"var\"\n",
    "callable(func)"
   ]
  },
  {
   "cell_type": "code",
   "execution_count": 31,
   "metadata": {},
   "outputs": [
    {
     "data": {
      "text/plain": [
       "False"
      ]
     },
     "execution_count": 31,
     "metadata": {},
     "output_type": "execute_result"
    }
   ],
   "source": [
    "# Use the callable() function to determine if an object is callable\n",
    "callable(dict1)"
   ]
  },
  {
   "cell_type": "code",
   "execution_count": 53,
   "metadata": {},
   "outputs": [
    {
     "name": "stdout",
     "output_type": "stream",
     "text": [
      "[10, 7, 5, 3.6, 2, 1, -3]\n",
      "[-3, 1, 2, 3.6, 5, 7, 10]\n",
      "[-3, 1, 2, 3.6, 5, 7, 10]\n",
      "['s', 'j', 'h', 'g', 'f', 'd', 'a']\n",
      "6\n"
     ]
    }
   ],
   "source": [
    "# Use the sorted() function to return a new list from a container, with the items sorted\n",
    "import operator\n",
    "print(sorted([10, 1, 3.6, 7, 5, 2, -3],reverse=True))\n",
    "print(sorted([10, 1, 3.6, 7, 5, 2, -3],reverse=False))\n",
    "print(sorted([10, 1, 3.6, 7, 5, 2, -3]))\n",
    "print(sorted(\"asdfghj\", reverse =True))\n",
    "# print(dir(123))\n",
    "print(operator.__mul__(2,3))"
   ]
  },
  {
   "cell_type": "code",
   "execution_count": 46,
   "metadata": {},
   "outputs": [
    {
     "data": {
      "text/plain": [
       "['&', '1', 'California', 'Chicago', 'DOGS', 'ants', 'cats', 'mice', 'zebras']"
      ]
     },
     "execution_count": 46,
     "metadata": {},
     "output_type": "execute_result"
    }
   ],
   "source": [
    "# Use the sorted() function to return a new list from a container, with the items sorted\n",
    "# - notice that capitalized strings come first\n",
    "sorted(['DOGS', 'cats', \"1\",\"&\",'zebras', 'Chicago', 'California', 'ants', 'mice'])"
   ]
  },
  {
   "cell_type": "code",
   "execution_count": null,
   "metadata": {
    "collapsed": true
   },
   "outputs": [],
   "source": [
    "# Use the sum() function to compute the sum of a container of numbers\n",
    "sum([10, 1, 3.6, 7, 5, 2, -3])"
   ]
  },
  {
   "cell_type": "code",
   "execution_count": null,
   "metadata": {
    "collapsed": true
   },
   "outputs": [],
   "source": [
    "# Use the min() function to determine the smallest item in a container\n",
    "min([10, 1, 3.6, 7, 5, 2, -3])"
   ]
  },
  {
   "cell_type": "code",
   "execution_count": 47,
   "metadata": {},
   "outputs": [
    {
     "data": {
      "text/plain": [
       "'Z'"
      ]
     },
     "execution_count": 47,
     "metadata": {},
     "output_type": "execute_result"
    }
   ],
   "source": [
    "# Use the min() function to determine the smallest item in a container\n",
    "# min(['g', 'z', 'a',\"Z\", 'y'])"
   ]
  },
  {
   "cell_type": "code",
   "execution_count": null,
   "metadata": {
    "collapsed": true
   },
   "outputs": [],
   "source": [
    "# Use the max() function to determine the largest item in a container\n",
    "max(10, 1, 3.6, 7, 5, 2, -3)"
   ]
  },
  {
   "cell_type": "code",
   "execution_count": null,
   "metadata": {
    "collapsed": true
   },
   "outputs": [],
   "source": [
    "# Use the max() function to determine the largest item in a container\n",
    "max('gibberish')"
   ]
  },
  {
   "cell_type": "code",
   "execution_count": null,
   "metadata": {
    "collapsed": true
   },
   "outputs": [],
   "source": [
    "# Use the abs() function to determine the absolute value of a number\n",
    "abs(-10)"
   ]
  },
  {
   "cell_type": "code",
   "execution_count": null,
   "metadata": {
    "collapsed": true
   },
   "outputs": [],
   "source": [
    "# Use the abs() function to determine the absolute value of a number\n",
    "abs(-12)"
   ]
  },
  {
   "cell_type": "code",
   "execution_count": null,
   "metadata": {
    "collapsed": true
   },
   "outputs": [],
   "source": [
    "# Use the repr() function to return a string representation of an object\n",
    "repr(set1)"
   ]
  },
  {
   "cell_type": "code",
   "execution_count": 21,
   "metadata": {},
   "outputs": [
    {
     "name": "stdout",
     "output_type": "stream",
     "text": [
      "this is integer\n"
     ]
    }
   ],
   "source": [
    "a= \"is\"\n",
    "b= \"this\"\n",
    "c = [\"string\",\"integer\"]\n",
    "lst = [a,b,c]\n",
    "# print(lst)\n",
    "print(\"{1} {0} {2[1]}\".format(a, b, c))"
   ]
  },
  {
   "cell_type": "markdown",
   "metadata": {},
   "source": [
    "## Some methods on string objects\n",
    "\n",
    "- **`.capitalize()`** to return a capitalized version of the string (only first char uppercase)\n",
    "- **`.upper()`** to return an uppercase version of the string (all chars uppercase)\n",
    "- **`.lower()`** to return an lowercase version of the string (all chars lowercase)\n",
    "- **`.count(substring)`** to return the number of occurences of the substring in the string\n",
    "- **`.startswith(substring)`** to determine if the string starts with the substring\n",
    "- **`.endswith(substring)`** to determine if the string ends with the substring\n",
    "- **`.replace(old, new)`** to return a copy of the string with occurences of the \"old\" replaced by \"new\""
   ]
  },
  {
   "cell_type": "code",
   "execution_count": 54,
   "metadata": {
    "collapsed": true
   },
   "outputs": [],
   "source": [
    "# Assign a string to a variable\n",
    "a_string = 'tHis is a sTriNg'"
   ]
  },
  {
   "cell_type": "code",
   "execution_count": 55,
   "metadata": {},
   "outputs": [
    {
     "data": {
      "text/plain": [
       "'This is a string'"
      ]
     },
     "execution_count": 55,
     "metadata": {},
     "output_type": "execute_result"
    }
   ],
   "source": [
    "# Return a capitalized version of the string\n",
    "a_string.capitalize()"
   ]
  },
  {
   "cell_type": "code",
   "execution_count": 56,
   "metadata": {},
   "outputs": [
    {
     "data": {
      "text/plain": [
       "'THIS IS A STRING'"
      ]
     },
     "execution_count": 56,
     "metadata": {},
     "output_type": "execute_result"
    }
   ],
   "source": [
    "# Return an uppercase version of the string\n",
    "a_string.upper()"
   ]
  },
  {
   "cell_type": "code",
   "execution_count": 4,
   "metadata": {},
   "outputs": [
    {
     "data": {
      "text/plain": [
       "'this is a string'"
      ]
     },
     "execution_count": 4,
     "metadata": {},
     "output_type": "execute_result"
    }
   ],
   "source": [
    "# Return a lowercase version of the string\n",
    "a_string.lower()"
   ]
  },
  {
   "cell_type": "code",
   "execution_count": 5,
   "metadata": {},
   "outputs": [
    {
     "data": {
      "text/plain": [
       "'tHis is a sTriNg'"
      ]
     },
     "execution_count": 5,
     "metadata": {},
     "output_type": "execute_result"
    }
   ],
   "source": [
    "# Notice that the methods called have not actually modified the string\n",
    "a_string"
   ]
  },
  {
   "cell_type": "code",
   "execution_count": 16,
   "metadata": {},
   "outputs": [
    {
     "data": {
      "text/plain": [
       "0"
      ]
     },
     "execution_count": 16,
     "metadata": {},
     "output_type": "execute_result"
    }
   ],
   "source": [
    "# Count number of occurences of a substring in the string\n",
    "a_string.count('i')"
   ]
  },
  {
   "cell_type": "code",
   "execution_count": 65,
   "metadata": {},
   "outputs": [
    {
     "name": "stdout",
     "output_type": "stream",
     "text": [
      "0\n",
      "1\n"
     ]
    }
   ],
   "source": [
    "# Count number of occurences of a substring in the string after a certain position\n",
    "# change position to -ve value\n",
    "a_string = 'tHis is a sTriNg'\n",
    "print(a_string.count('t',-1))\n",
    "print(a_string.count('t',-20))"
   ]
  },
  {
   "cell_type": "code",
   "execution_count": 8,
   "metadata": {},
   "outputs": [
    {
     "data": {
      "text/plain": [
       "2"
      ]
     },
     "execution_count": 8,
     "metadata": {},
     "output_type": "execute_result"
    }
   ],
   "source": [
    "# Count number of occurences of a substring in the string\n",
    "a_string.count('is')"
   ]
  },
  {
   "cell_type": "code",
   "execution_count": 67,
   "metadata": {},
   "outputs": [
    {
     "data": {
      "text/plain": [
       "False"
      ]
     },
     "execution_count": 67,
     "metadata": {},
     "output_type": "execute_result"
    }
   ],
   "source": [
    "# Does the string start with 'this'?\n",
    "a_string = 'tHis is a sTriNg'\n",
    "a_string.startswith('this')"
   ]
  },
  {
   "cell_type": "code",
   "execution_count": 68,
   "metadata": {},
   "outputs": [
    {
     "data": {
      "text/plain": [
       "True"
      ]
     },
     "execution_count": 68,
     "metadata": {},
     "output_type": "execute_result"
    }
   ],
   "source": [
    "# Does the lowercase string start with 'this'?\n",
    "# try changing the value to 'THIS'/'This'\n",
    "a_string.lower().startswith('this')"
   ]
  },
  {
   "cell_type": "code",
   "execution_count": 15,
   "metadata": {},
   "outputs": [
    {
     "data": {
      "text/plain": [
       "True"
      ]
     },
     "execution_count": 15,
     "metadata": {},
     "output_type": "execute_result"
    }
   ],
   "source": [
    "# Does the string end with 'Ng'?\n",
    "# try changing the value to 'ng'\n",
    "a_string.endswith('Ng')"
   ]
  },
  {
   "cell_type": "code",
   "execution_count": 76,
   "metadata": {},
   "outputs": [
    {
     "data": {
      "text/plain": [
       "'tHXYZ XYZ a sTriNg tHXYZ XYZ a sTriNg tHXYZ XYZ a sTriNg'"
      ]
     },
     "execution_count": 76,
     "metadata": {},
     "output_type": "execute_result"
    }
   ],
   "source": [
    "# Return a version of the string with a substring replaced with something else\n",
    "a_string = 'tHis is a sTriNg tHis is a sTriNg tHis is a sTriNg'\n",
    "a_string.replace('is', 'XYZ')"
   ]
  },
  {
   "cell_type": "code",
   "execution_count": 73,
   "metadata": {},
   "outputs": [
    {
     "data": {
      "text/plain": [
       "'tH!s !s a sTr!Ng tH!s !s a sTr!Ng tH!s !s a sTr!Ng'"
      ]
     },
     "execution_count": 73,
     "metadata": {},
     "output_type": "execute_result"
    }
   ],
   "source": [
    "# Return a version of the string with a substring replaced with something else\n",
    "a_string.replace('i', '!')"
   ]
  },
  {
   "cell_type": "code",
   "execution_count": 77,
   "metadata": {},
   "outputs": [
    {
     "data": {
      "text/plain": [
       "'tH!s !s a sTr!Ng tHis is a sTriNg tHis is a sTriNg'"
      ]
     },
     "execution_count": 77,
     "metadata": {},
     "output_type": "execute_result"
    }
   ],
   "source": [
    "# Return a version of the string with the first 3 occurences a substring replaced with something else\n",
    "a_string.replace('i', '!', 3)"
   ]
  },
  {
   "cell_type": "markdown",
   "metadata": {},
   "source": [
    "## Some methods on list objects\n",
    "\n",
    "- **`.append(item)`** to add a single item to the list\n",
    "- **`.extend([item1, item2, ...])`** to add multiple items to the list\n",
    "- **`.remove(item)`** to remove a single item from the list\n",
    "- **`.pop()`** to remove and return the item at the end of the list\n",
    "- **`.pop(index)`** to remove and return an item at an index\n",
    "- **`.count(index)`** to count occurance of item in list"
   ]
  },
  {
   "cell_type": "code",
   "execution_count": 30,
   "metadata": {},
   "outputs": [
    {
     "name": "stdout",
     "output_type": "stream",
     "text": [
      "Updated animal list:  ['cat', 'dog', 'rabbit', 'guinea pig']\n"
     ]
    }
   ],
   "source": [
    "# animal list\n",
    "animal = ['cat', 'dog', 'rabbit']\n",
    "\n",
    "new_item = 'guinea pig'\n",
    "# an element is added\n",
    "animal.append(new_item)\n",
    "\n",
    "#Updated Animal List\n",
    "print('Updated animal list: ', animal)"
   ]
  },
  {
   "cell_type": "code",
   "execution_count": 28,
   "metadata": {},
   "outputs": [
    {
     "name": "stdout",
     "output_type": "stream",
     "text": [
      "Language List:  ['Spanish', 'Portuguese', 'Spanish', 'Portuguese']\n"
     ]
    }
   ],
   "source": [
    "# language list\n",
    "language = ['French', 'English', 'German']\n",
    "\n",
    "# another list of language\n",
    "language1 = ['Spanish', 'Portuguese']\n",
    "# language1 = \"spanish\"\n",
    "\n",
    "language1.extend(language1)\n",
    "\n",
    "# Extended List\n",
    "print('Language List: ', language1)"
   ]
  },
  {
   "cell_type": "code",
   "execution_count": 36,
   "metadata": {},
   "outputs": [
    {
     "name": "stdout",
     "output_type": "stream",
     "text": [
      "Updated animal list:  ['cat', 'dog', 'guinea pig']\n"
     ]
    }
   ],
   "source": [
    "# animal list\n",
    "animal = ['cat', 'dog', ('rabbit'), 'guinea pig']\n",
    "\n",
    "# 'rabbit' element is removed\n",
    "# animal.remove('rabbit')\n",
    "animal.remove(('rabbit'))\n",
    "\n",
    "#Updated Animal List\n",
    "print('Updated animal list: ', animal)"
   ]
  },
  {
   "cell_type": "code",
   "execution_count": 46,
   "metadata": {},
   "outputs": [
    {
     "name": "stdout",
     "output_type": "stream",
     "text": [
      "Return Value:  French\n",
      "Updated List:  ['Python', 'Java', 'C++', 'C']\n",
      "Return Value:  C\n",
      "Updated List:  ['Python', 'Java', 'C++']\n",
      "Updated List:  ('asd', 'asfsdfasd') ['Python', 'Java', 'C++']\n",
      "Updated List: ('asd', 'asfsdfasd')['Python', 'Java', 'C++']\n"
     ]
    }
   ],
   "source": [
    "# programming language list\n",
    "language = ['Python', 'Java', 'C++', 'French', 'C']\n",
    "\n",
    "# Return value from pop()\n",
    "# When 3 is passed\n",
    "return_value = language.pop(3)\n",
    "print('Return Value: ', return_value)\n",
    "\n",
    "# Updated List\n",
    "print('Updated List: ', language)\n",
    "\n",
    "#====================#\n",
    "\n",
    "return_value = language.pop()\n",
    "print('Return Value: ', return_value)\n",
    "\n",
    "# Updated List\n",
    "print('Updated List: ', language)\n",
    "\n",
    "print('Updated List: ',(\"asd\",\"asfsdfasd\"), language)\n",
    "print('Updated List: '+str((\"asd\",\"asfsdfasd\"))+ str(language))"
   ]
  },
  {
   "cell_type": "code",
   "execution_count": 42,
   "metadata": {},
   "outputs": [
    {
     "name": "stdout",
     "output_type": "stream",
     "text": [
      "The count of i is: 1\n",
      "The count of p is: 0\n"
     ]
    }
   ],
   "source": [
    "# vowels list\n",
    "vowels = ['a', 'e', 'I', 'o', 'i', 'u']\n",
    "\n",
    "# count element 'i'\n",
    "count = vowels.count('i')\n",
    "\n",
    "# print count\n",
    "print('The count of i is:', count)\n",
    "\n",
    "# count element 'p'\n",
    "count = vowels.count('p')\n",
    "\n",
    "# print count\n",
    "print('The count of p is:', count)"
   ]
  },
  {
   "cell_type": "markdown",
   "metadata": {},
   "source": [
    "## Some methods on set objects\n",
    "\n",
    "- **`.add(item)`** to add a single item to the set\n",
    "- **`.update([item1, item2, ...])`** to add multiple items to the set\n",
    "- **`.update(set2, set3, ...)`** to add items from all provided sets to the set\n",
    "- **`.remove(item)`** to remove a single item from the set\n",
    "- **`.pop()`** to remove and return a random item from the set\n",
    "- **`.difference(set2)`** to return items in the set that are not in another set\n",
    "- **`.intersection(set2)`** to return items in both sets\n",
    "- **`.union(set2)`** to return items that are in either set\n",
    "- **`.symmetric_difference(set2)`** to return items that are only in one set (not both)\n",
    "- **`.issuperset(set2)`** does the set contain everything in the other set?\n",
    "- **`.issubset(set2)`** is the set contained in the other set?"
   ]
  },
  {
   "cell_type": "code",
   "execution_count": 47,
   "metadata": {},
   "outputs": [
    {
     "name": "stdout",
     "output_type": "stream",
     "text": [
      "Vowels are: {'e', 'i', 'u', 'o', 'a'}\n",
      "Vowels are: {'e', 'i', 'u', 'o', 'a'}\n"
     ]
    }
   ],
   "source": [
    "# Example of add\n",
    "# set of vowels\n",
    "vowels = {'a', 'e', 'i', 'u'}\n",
    "\n",
    "# adding 'o'\n",
    "vowels.add('o')\n",
    "print('Vowels are:', vowels)\n",
    "\n",
    "# adding 'a' again\n",
    "vowels.add('a')\n",
    "print('Vowels are:', vowels)"
   ]
  },
  {
   "cell_type": "code",
   "execution_count": 53,
   "metadata": {},
   "outputs": [
    {
     "name": "stdout",
     "output_type": "stream",
     "text": [
      "A = {1, 2, 3, 'b', 'a'}\n",
      "B = {1, 2, 3}\n",
      "result = None\n",
      "A = {1, 2, 3, 'b', 'a'}\n"
     ]
    }
   ],
   "source": [
    "# Example of update\n",
    "A = {'a', 'b'}\n",
    "B = {1, 2, 3}\n",
    "\n",
    "A.update(B)\n",
    "print('A =',A)\n",
    "print('B =',B)\n",
    "print('result =',result)\n",
    "\n",
    "A.update(A)\n",
    "print('A =',A)"
   ]
  },
  {
   "cell_type": "code",
   "execution_count": null,
   "metadata": {
    "collapsed": true
   },
   "outputs": [],
   "source": [
    "# Removing  element 3 is removed\n",
    "result = A.remove(3)\n",
    "print(A)\n",
    "print(result)"
   ]
  },
  {
   "cell_type": "code",
   "execution_count": 54,
   "metadata": {},
   "outputs": [
    {
     "name": "stdout",
     "output_type": "stream",
     "text": [
      "Return Value is  1\n"
     ]
    }
   ],
   "source": [
    "# Example of pop\n",
    "# Pop returns the popped value. Takes no argument.\n",
    "print('Return Value is ', A.pop())"
   ]
  },
  {
   "cell_type": "code",
   "execution_count": 55,
   "metadata": {},
   "outputs": [
    {
     "name": "stdout",
     "output_type": "stream",
     "text": [
      "{'b', 'd', 'a'}\n",
      "{'g', 'f'}\n"
     ]
    }
   ],
   "source": [
    "# Example of Differenece\n",
    "A = {'a', 'b', 'c', 'd'}\n",
    "B = {'c', 'f', 'g'}\n",
    "\n",
    "# Equivalent to A-B\n",
    "print(A.difference(B))\n",
    "# print(A-B)\n",
    "\n",
    "# Equivalent to B-A\n",
    "print(B.difference(A))\n",
    "# print(B-A)"
   ]
  },
  {
   "cell_type": "code",
   "execution_count": null,
   "metadata": {
    "collapsed": true
   },
   "outputs": [],
   "source": [
    "# Example of intersection\n",
    "A = {1, 2, 3, 4}\n",
    "B = {2, 3, 4,  9}\n",
    "C = {2, 4, 9 ,10}\n",
    "\n",
    "print(B.intersection(A))\n",
    "print(B.intersection(C))\n",
    "print(A.intersection(C))\n",
    "# Takes more than 1 argument as well.\n",
    "print(C.intersection(A, B))"
   ]
  },
  {
   "cell_type": "code",
   "execution_count": 56,
   "metadata": {},
   "outputs": [
    {
     "name": "stdout",
     "output_type": "stream",
     "text": [
      "A U B = {'c', 2, 'd', 'a'}\n",
      "B U C = {'c', 2, 1, 3, 'd'}\n",
      "A U B U C = {'c', 2, 1, 3, 'd', 'a'}\n",
      "A.union() =  {'c', 'd', 'a'}\n"
     ]
    }
   ],
   "source": [
    "# Example of how to unify a set\n",
    "A = {'a', 'c', 'd'}\n",
    "B = {'c', 'd', 2 }\n",
    "C= {1, 2, 3}\n",
    "\n",
    "print('A U B =', A.union(B))\n",
    "print('B U C =', B.union(C))\n",
    "\n",
    "# takes more than 1 argument's\n",
    "print('A U B U C =', A.union(B, C))\n",
    "\n",
    "print('A.union() = ', A.union())"
   ]
  },
  {
   "cell_type": "markdown",
   "metadata": {
    "collapsed": true
   },
   "source": [
    "## Some methods on dict objects\n",
    "\n",
    "- **`.update([(key1, val1), (key2, val2), ...])`** to add multiple key-value pairs to the dict\n",
    "- **`.update(dict2)`** to add all keys and values from another dict to the dict\n",
    "- **`.pop(key)`** to remove key and return its value from the dict (error if key not found)\n",
    "- **`.pop(key, default_val)`** to remove key and return its value from the dict (or return default_val if key not found)\n",
    "- **`.get(key)`** to return the value at a specified key in the dict (or None if key not found)\n",
    "- **`.get(key, default_val)`** to return the value at a specified key in the dict (or default_val if key not found)\n",
    "- **`.keys()`** to return a list of keys in the dict\n",
    "- **`.values()`** to return a list of values in the dict\n",
    "- **`.items()`** to return a list of key-value pairs (tuples) in the dict"
   ]
  },
  {
   "cell_type": "code",
   "execution_count": 2,
   "metadata": {},
   "outputs": [
    {
     "name": "stdout",
     "output_type": "stream",
     "text": [
      "{1: 'one', 3: 'three', 2: 'two'}\n",
      "{1: 'one', 3: 'three', 2: 'two', 4: 'four'}\n"
     ]
    }
   ],
   "source": [
    "# Example of Update method on dictionary\n",
    "d = {1: \"one\", 3: \"three\"}\n",
    "d1 = {2: \"two\"}\n",
    "\n",
    "# updates the value of key 2\n",
    "d.update(d1)\n",
    "print(d)\n",
    "\n",
    "d1 = {3: \"three\",4: \"four\"}\n",
    "\n",
    "# adds element with key 3\n",
    "d.update(d1)\n",
    "print(d)"
   ]
  },
  {
   "cell_type": "code",
   "execution_count": 5,
   "metadata": {},
   "outputs": [
    {
     "name": "stdout",
     "output_type": "stream",
     "text": [
      "key mango Not found\n",
      "The popped element is: 2\n",
      "The dictionary is: {'orange': 3, 'grapes': 4}\n"
     ]
    }
   ],
   "source": [
    "# Example of pop method on   dictionary\n",
    "sales = { 'apple': 2, 'orange': 3, 'grapes': 4 }\n",
    "\n",
    "element = sales.pop('mango', \"Not found\")\n",
    "print('key mango '+ element)\n",
    "element = sales.pop('apple',\"Not Found\")\n",
    "print('The popped element is:', element)\n",
    "print('The dictionary is:', sales)"
   ]
  },
  {
   "cell_type": "code",
   "execution_count": 9,
   "metadata": {},
   "outputs": [
    {
     "name": "stdout",
     "output_type": "stream",
     "text": [
      "Name:  Phill\n",
      "Age:  22\n",
      "Salary:  None\n",
      "Salary:  0.0\n"
     ]
    }
   ],
   "source": [
    "# Example of get method on   dictionary\n",
    "person = {'name': 'Phill', 'age': 22}\n",
    "\n",
    "print('Name: ', person.get('name'))\n",
    "print('Age: ', person.get('age'))\n",
    "\n",
    "# value is not provided\n",
    "print('Salary: ', person.get('salary'))\n",
    "\n",
    "# value is provided\n",
    "print('Salary: ', person.get('salary', 0.0))"
   ]
  },
  {
   "cell_type": "code",
   "execution_count": 15,
   "metadata": {},
   "outputs": [
    {
     "name": "stdout",
     "output_type": "stream",
     "text": [
      "dict_keys(['name', 'age', 'salary'])\n",
      "dict_values(['Phill', 22, 3500.0])\n",
      "dict_keys([])\n",
      "dict_values([])\n",
      "22\n"
     ]
    }
   ],
   "source": [
    "# Example of keys and values method\n",
    "person = {'name': 'Phill', 'age': 22, 'salary': 3500.0}\n",
    "print(person.keys())\n",
    "print(person.values())\n",
    "\n",
    "empty_dict = {}\n",
    "print(empty_dict.keys())\n",
    "print(empty_dict.values())\n",
    "\n",
    "person= {\n",
    "        \"kasper\":\n",
    "               {\n",
    "                \"age\":22,\n",
    "                \"salary\":25000,\n",
    "                \"town\":{\n",
    "                    \"permanent\":\"bkt\",\n",
    "                    \"temporary\":\"ktm\"}},\n",
    "         \"spark\":\n",
    "               {\n",
    "                \"age\":23,\n",
    "                \"salary\":35000\n",
    "               }\n",
    "        }\n",
    "age = person.get(\"kasper\").get(\"age\")\n",
    "print(age)\n"
   ]
  },
  {
   "cell_type": "code",
   "execution_count": 20,
   "metadata": {},
   "outputs": [
    {
     "name": "stdout",
     "output_type": "stream",
     "text": [
      "[('apple', 2), ('orange', 3), ('grapes', 4)]\n",
      "{'apple': 2, 'orange': 3, 'grapes': 4}\n",
      "dict_items([('apple', 2), ('orange', 3), ('grapes', 4)])\n"
     ]
    }
   ],
   "source": [
    "# Example of items method\n",
    "sales = { 'apple': 2, 'orange': 3, 'grapes': 4 }\n",
    "\n",
    "print(list(sales.items()))\n",
    "print(dict(sales.items()))\n",
    "print(sales.items())"
   ]
  },
  {
   "cell_type": "markdown",
   "metadata": {},
   "source": [
    "## Some Slicing \n",
    "\n",
    "- The slice() constructor creates a slice object representing the set of indices specified by                  range(start, stop, step).\n",
    "- The slice object is used to slice a given sequence (string, bytes, tuple, list or range) or any object which supports sequence protocol \n"
   ]
  },
  {
   "cell_type": "raw",
   "metadata": {},
   "source": [
    "+---+---+---+---+---+---+\n",
    " | P | y | t | h | o | n |\n",
    " +---+---+---+---+---+---+\n",
    " 0   1   2   3   4   5   \n",
    "-6  -5  -4  -3  -2  -1"
   ]
  },
  {
   "cell_type": "code",
   "execution_count": 21,
   "metadata": {},
   "outputs": [
    {
     "name": "stdout",
     "output_type": "stream",
     "text": [
      "Pyt\n",
      "Pto\n"
     ]
    }
   ],
   "source": [
    "#Example : Get substring from a given string using slice object\n",
    "pyString = 'Python'\n",
    "\n",
    "# contains indices (0, 1, 2)\n",
    "# i.e. P, y and t\n",
    "sObject = slice(3)\n",
    "\n",
    "print(pyString[sObject])\n",
    "\n",
    "# contains indices (1, 3)\n",
    "# i.e. y and h\n",
    "sObject = slice(0, 5, 2)\n",
    "print(pyString[sObject])"
   ]
  },
  {
   "cell_type": "code",
   "execution_count": 2,
   "metadata": {},
   "outputs": [
    {
     "name": "stdout",
     "output_type": "stream",
     "text": [
      "nhy\n"
     ]
    }
   ],
   "source": [
    "# Example : Get substring from a given string using negative index\n",
    "pyString = 'Python'\n",
    "\n",
    "# contains indices (-1, -3, -5)\n",
    "# i.e. n, hand y\n",
    "sObject = slice(-1, -6, -2)\n",
    "\n",
    "print(pyString[sObject])"
   ]
  },
  {
   "cell_type": "code",
   "execution_count": 3,
   "metadata": {},
   "outputs": [
    {
     "name": "stdout",
     "output_type": "stream",
     "text": [
      "['P', 'y', 't']\n",
      "('y', 'h')\n"
     ]
    }
   ],
   "source": [
    "# Example : Get sublist and sub-tuple from a given list and tuple respectively\n",
    "pyList = ['P', 'y', 't', 'h', 'o', 'n']\n",
    "pyTuple = ('P', 'y', 't', 'h', 'o', 'n')\n",
    "\n",
    "# contains indices (0, 1, 2)\n",
    "# i.e. P, y and t\n",
    "sObject = slice(3)\n",
    "\n",
    "# slice a list\n",
    "print(pyList[sObject])\n",
    "\n",
    "# contains indices (1, 3)\n",
    "# i.e. y and h\n",
    "sObject = slice(1, 5, 2)\n",
    "\n",
    "# slice a tuple\n",
    "print(pyTuple[sObject])"
   ]
  },
  {
   "cell_type": "code",
   "execution_count": 4,
   "metadata": {},
   "outputs": [
    {
     "name": "stdout",
     "output_type": "stream",
     "text": [
      "['n', 'o', 'h', 't', 'y', 'P']\n",
      "('n', 'o', 'h', 't', 'y', 'P')\n",
      "nohtyP\n"
     ]
    }
   ],
   "source": [
    "# Reversing a list tuple or string\n",
    "pyList = ['P', 'y', 't', 'h', 'o', 'n']\n",
    "pyTuple = ('P', 'y', 't', 'h', 'o', 'n')\n",
    "pyString = 'Python'\n",
    "pyInt = 1234\n",
    "print(pyList[::-1])\n",
    "print(pyTuple[::-1])\n",
    "print(pyString[::-1])\n",
    "# print(pyInt[::-1])"
   ]
  },
  {
   "cell_type": "code",
   "execution_count": 9,
   "metadata": {},
   "outputs": [
    {
     "name": "stdout",
     "output_type": "stream",
     "text": [
      "n\n",
      "['o', 'n']\n",
      "['P', 'y', 't', 'h']\n",
      "['n', 'o', 'h', 't', 'y', 'P']\n",
      "['y', 'P']\n",
      "['n', 'o']\n",
      "['h', 't', 'y', 'P']\n",
      "['P', 'y', 't', 'h', 'o']\n"
     ]
    }
   ],
   "source": [
    "# Some examples\n",
    "a = ['P', 'y', 't', 'h', 'o', 'n']\n",
    "print(a[-1])    # last item in the array\n",
    "print(a[-2:])  # last two items in the array\n",
    "print(a[:-2])  # everything except the last two items\n",
    "print(a[::-1])    # all items in the array, reversed\n",
    "print(a[1::-1])  # the first two items, reversed\n",
    "print(a[:-3:-1])  # the last two items, reversed\n",
    "print(a[-3::-1] ) # everything except the last two items, reversed\n",
    "print(a[slice(-1)])"
   ]
  },
  {
   "cell_type": "code",
   "execution_count": 1,
   "metadata": {},
   "outputs": [
    {
     "name": "stdout",
     "output_type": "stream",
     "text": [
      "0\n",
      "1\n",
      "2\n",
      "3\n",
      "4\n"
     ]
    }
   ],
   "source": [
    "# while loop \n",
    "i= 0\n",
    "while i< 5:\n",
    "    print(i)\n",
    "    i=i+1  # ending the loop inside\n",
    " \n"
   ]
  },
  {
   "cell_type": "code",
   "execution_count": null,
   "metadata": {},
   "outputs": [],
   "source": [
    "i= 0 \n",
    "while True: # infinite looping (true)\n",
    "    print(i)\n",
    "    i=i+1\n",
    "    if i==5\n",
    "    break\n",
    "        \n",
    "    "
   ]
  },
  {
   "cell_type": "code",
   "execution_count": null,
   "metadata": {},
   "outputs": [
    {
     "name": "stdout",
     "output_type": "stream",
     "text": [
      "DO you wnat to exit(y/n)y\n",
      ".....Menu....\n",
      "......\n"
     ]
    }
   ],
   "source": [
    "ans = input('DO you wnat to exit(y/n)')\n",
    "while True:\n",
    "    print(\".....Menu....\")\n",
    "    print(\"......\")\n",
    "    ans = input('DO you wnat to exit(y/n)')\n",
    "    if ans.lower()=='y':\n",
    "        break"
   ]
  },
  {
   "cell_type": "code",
   "execution_count": null,
   "metadata": {},
   "outputs": [],
   "source": []
  },
  {
   "cell_type": "code",
   "execution_count": 7,
   "metadata": {},
   "outputs": [
    {
     "name": "stdout",
     "output_type": "stream",
     "text": [
      "found\n"
     ]
    }
   ],
   "source": [
    "list_1 = [11,34,23,76,45,65]\n",
    "search =34\n",
    "for num in list_1:\n",
    "    if num == search:\n",
    "        print(\"found\")\n",
    "        break"
   ]
  },
  {
   "cell_type": "code",
   "execution_count": 6,
   "metadata": {},
   "outputs": [
    {
     "name": "stdout",
     "output_type": "stream",
     "text": [
      "Even count:2\n",
      "Odd count:4\n"
     ]
    }
   ],
   "source": [
    "# count odd and even in a list of number\n",
    "list_1 =[11,34,23,76,43,65]\n",
    "odds=0\n",
    "even=0\n",
    "for num in list_1:\n",
    "    if num %2 == 0:\n",
    "        even=even+1\n",
    "    else:\n",
    "        odds=odds+1\n",
    "print(f'Even count:{even}')\n",
    "print(f'Odd count:{odds}')"
   ]
  },
  {
   "cell_type": "code",
   "execution_count": 3,
   "metadata": {},
   "outputs": [
    {
     "name": "stdout",
     "output_type": "stream",
     "text": [
      "digit:28\n",
      "char:0\n"
     ]
    }
   ],
   "source": [
    "string_1 = 'khjklkjklkkloiujklkjn5565nkj'\n",
    "digit=0\n",
    "char=0\n",
    "for dis in string_1:\n",
    "    if dis.isdigit:\n",
    "        digit= digit+1\n",
    "    else:\n",
    "        char = char +1\n",
    "print(f'digit:{digit}')\n",
    "print(f'char:{char}')\n",
    "        "
   ]
  },
  {
   "cell_type": "code",
   "execution_count": null,
   "metadata": {},
   "outputs": [],
   "source": [
    "odds =[]\n",
    "evens =[]\n",
    "\n",
    "for num in list_1:\n",
    "    if num%2==0:\n",
    "        evens.append(num)\n",
    "    else:\n",
    "        odds.append(num)\n",
    "print(f\"Even no:{enves}\")\n",
    "print(f'odd no:{odds}')\n",
    "\n",
    "#list comprehinsion\n",
    "evens= [num for num in list_1 if num%2 ==0]\n",
    "odds = [num for num in list_1 if num%2!=0]\n",
    "print(f\"even no :{evens}\")\n",
    "print(f\"odd no :{odds}\")"
   ]
  },
  {
   "cell_type": "code",
   "execution_count": 1,
   "metadata": {},
   "outputs": [],
   "source": [
    "def print_hello():\n",
    "    print(\"...........\")\n",
    "    print(\"Hello\")\n",
    "    print(\"......\")\n",
    "    "
   ]
  },
  {
   "cell_type": "code",
   "execution_count": 2,
   "metadata": {},
   "outputs": [
    {
     "name": "stdout",
     "output_type": "stream",
     "text": [
      "...........\n",
      "Hello\n",
      "......\n",
      "...........\n",
      "Hello\n",
      "......\n"
     ]
    }
   ],
   "source": [
    "print_hello()\n",
    "print_hello()\n"
   ]
  },
  {
   "cell_type": "code",
   "execution_count": 6,
   "metadata": {},
   "outputs": [
    {
     "name": "stdout",
     "output_type": "stream",
     "text": [
      "hello ram\n"
     ]
    }
   ],
   "source": [
    "def greet(name):\n",
    "    print(f\"hello {name}\")\n",
    "greet(\"ram\")"
   ]
  },
  {
   "cell_type": "code",
   "execution_count": null,
   "metadata": {},
   "outputs": [],
   "source": []
  },
  {
   "cell_type": "code",
   "execution_count": 7,
   "metadata": {},
   "outputs": [
    {
     "name": "stdout",
     "output_type": "stream",
     "text": [
      "hello ram\n"
     ]
    }
   ],
   "source": [
    "#None\n",
    "none_var = greet(\"ram\")"
   ]
  },
  {
   "cell_type": "code",
   "execution_count": 8,
   "metadata": {},
   "outputs": [
    {
     "data": {
      "text/plain": [
       "NoneType"
      ]
     },
     "execution_count": 8,
     "metadata": {},
     "output_type": "execute_result"
    }
   ],
   "source": [
    "type(none_var)"
   ]
  },
  {
   "cell_type": "code",
   "execution_count": 9,
   "metadata": {},
   "outputs": [
    {
     "name": "stdout",
     "output_type": "stream",
     "text": [
      "None\n"
     ]
    }
   ],
   "source": [
    "print(none_var)\n"
   ]
  },
  {
   "cell_type": "code",
   "execution_count": 15,
   "metadata": {},
   "outputs": [
    {
     "name": "stdout",
     "output_type": "stream",
     "text": [
      "None\n"
     ]
    }
   ],
   "source": [
    "list_1=[2,3,4,5,2,2,1,3,45,5]\n",
    "sorted_list =list_1.sort()\n",
    "print(sorted_list)"
   ]
  },
  {
   "cell_type": "code",
   "execution_count": 13,
   "metadata": {},
   "outputs": [
    {
     "data": {
      "text/plain": [
       "NoneType"
      ]
     },
     "execution_count": 13,
     "metadata": {},
     "output_type": "execute_result"
    }
   ],
   "source": [
    "type(sorted_list)"
   ]
  },
  {
   "cell_type": "code",
   "execution_count": 27,
   "metadata": {},
   "outputs": [],
   "source": [
    "def add_5(num):\n",
    "    added=num+5\n",
    "    return added\n",
    "#     return num + 5"
   ]
  },
  {
   "cell_type": "code",
   "execution_count": 25,
   "metadata": {},
   "outputs": [
    {
     "data": {
      "text/plain": [
       "11"
      ]
     },
     "execution_count": 25,
     "metadata": {},
     "output_type": "execute_result"
    }
   ],
   "source": [
    "add_5(2)+4\n"
   ]
  },
  {
   "cell_type": "code",
   "execution_count": 22,
   "metadata": {},
   "outputs": [],
   "source": [
    "five_added =add_5(10)"
   ]
  },
  {
   "cell_type": "code",
   "execution_count": 23,
   "metadata": {},
   "outputs": [
    {
     "name": "stdout",
     "output_type": "stream",
     "text": [
      "10\n"
     ]
    }
   ],
   "source": [
    "print(add_5(5))"
   ]
  },
  {
   "cell_type": "code",
   "execution_count": 30,
   "metadata": {},
   "outputs": [],
   "source": [
    "def sum_1(a,b):\n",
    "    return a+b\n"
   ]
  },
  {
   "cell_type": "code",
   "execution_count": 32,
   "metadata": {},
   "outputs": [],
   "source": [
    "summed =sum_1(4,6)"
   ]
  },
  {
   "cell_type": "code",
   "execution_count": 33,
   "metadata": {},
   "outputs": [
    {
     "name": "stdout",
     "output_type": "stream",
     "text": [
      "10\n"
     ]
    }
   ],
   "source": [
    "print(summed)"
   ]
  },
  {
   "cell_type": "code",
   "execution_count": 36,
   "metadata": {},
   "outputs": [],
   "source": [
    "\n",
    "#sending the list at arguement\n",
    "def avg(list_1):\n",
    "    mean =sum(list_1)/len(list_1)\n",
    "    return mean"
   ]
  },
  {
   "cell_type": "code",
   "execution_count": 39,
   "metadata": {},
   "outputs": [
    {
     "data": {
      "text/plain": [
       "3.0"
      ]
     },
     "execution_count": 39,
     "metadata": {},
     "output_type": "execute_result"
    }
   ],
   "source": [
    "avg([1,2,3,4,5])"
   ]
  },
  {
   "cell_type": "code",
   "execution_count": null,
   "metadata": {},
   "outputs": [],
   "source": []
  },
  {
   "cell_type": "code",
   "execution_count": 62,
   "metadata": {},
   "outputs": [],
   "source": [
    "#zip data type\n",
    "\n",
    "list_1 =[1,2,3,4,5]\n",
    "list_2 =['a','b','c','d','e']\n"
   ]
  },
  {
   "cell_type": "code",
   "execution_count": 73,
   "metadata": {},
   "outputs": [
    {
     "data": {
      "text/plain": [
       "zip"
      ]
     },
     "execution_count": 73,
     "metadata": {},
     "output_type": "execute_result"
    }
   ],
   "source": [
    "zipped =zip(list_1 , list_2)\n",
    "type(zipped)"
   ]
  },
  {
   "cell_type": "code",
   "execution_count": 69,
   "metadata": {},
   "outputs": [],
   "source": [
    "\n",
    "list_from_zip =list(zipped)"
   ]
  },
  {
   "cell_type": "code",
   "execution_count": 70,
   "metadata": {},
   "outputs": [
    {
     "name": "stdout",
     "output_type": "stream",
     "text": [
      "[(1, 'a'), (2, 'b'), (3, 'c'), (4, 'd'), (5, 'e')]\n"
     ]
    }
   ],
   "source": [
    "print(list_from_zip)"
   ]
  },
  {
   "cell_type": "code",
   "execution_count": 74,
   "metadata": {},
   "outputs": [
    {
     "name": "stdout",
     "output_type": "stream",
     "text": [
      "num:1,char:a\n",
      "num:2,char:b\n",
      "num:3,char:c\n",
      "num:4,char:d\n",
      "num:5,char:e\n"
     ]
    }
   ],
   "source": [
    "for i,j in  zip(list_1, list_2):\n",
    "    print(f\"num:{i},char:{j}\")"
   ]
  },
  {
   "cell_type": "code",
   "execution_count": 67,
   "metadata": {},
   "outputs": [],
   "source": [
    "#once the iter is in the it is terminated and dest and similarly zipped"
   ]
  },
  {
   "cell_type": "code",
   "execution_count": 72,
   "metadata": {},
   "outputs": [
    {
     "name": "stdout",
     "output_type": "stream",
     "text": [
      "index:0,element:a\n",
      "index:1,element:b\n",
      "index:2,element:c\n",
      "index:3,element:d\n",
      "index:4,element:e\n"
     ]
    }
   ],
   "source": [
    "for index,item in enumerate(list_2):\n",
    "    print(f\"index:{index},element:{item}\")"
   ]
  },
  {
   "cell_type": "code",
   "execution_count": 76,
   "metadata": {},
   "outputs": [],
   "source": [
    "dictionary ={\n",
    "    \"name\" : \"ram\",\n",
    "    \"age\" : 45,\n",
    "    \"address\" : \"siphal\"\n",
    "    \n",
    "}"
   ]
  },
  {
   "cell_type": "code",
   "execution_count": 78,
   "metadata": {},
   "outputs": [
    {
     "data": {
      "text/plain": [
       "dict_items([('name', 'ram'), ('age', 45), ('address', 'siphal')])"
      ]
     },
     "execution_count": 78,
     "metadata": {},
     "output_type": "execute_result"
    }
   ],
   "source": [
    "# makes tules for dictionary as key and its value\n",
    "dictionary.items()"
   ]
  },
  {
   "cell_type": "code",
   "execution_count": 80,
   "metadata": {},
   "outputs": [
    {
     "name": "stdout",
     "output_type": "stream",
     "text": [
      "key:name,value:ram\n",
      "key:age,value:45\n",
      "key:address,value:siphal\n"
     ]
    }
   ],
   "source": [
    "for key,val in dictionary.items():\n",
    "    print(f\"key:{key},value:{val}\")"
   ]
  },
  {
   "cell_type": "code",
   "execution_count": null,
   "metadata": {},
   "outputs": [],
   "source": []
  }
 ],
 "metadata": {
  "kernelspec": {
   "display_name": "Python 3",
   "language": "python",
   "name": "python3"
  },
  "pycharm": {
   "stem_cell": {
    "cell_type": "raw",
    "metadata": {
     "collapsed": false
    },
    "source": []
   }
  }
 },
 "nbformat": 4,
 "nbformat_minor": 2
}
